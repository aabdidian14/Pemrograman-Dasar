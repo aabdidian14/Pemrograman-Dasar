{
  "nbformat": 4,
  "nbformat_minor": 0,
  "metadata": {
    "colab": {
      "provenance": [],
      "authorship_tag": "ABX9TyM/auBsOHuOOdxPpMcVzOlP",
      "include_colab_link": true
    },
    "kernelspec": {
      "name": "python3",
      "display_name": "Python 3"
    },
    "language_info": {
      "name": "python"
    }
  },
  "cells": [
    {
      "cell_type": "markdown",
      "metadata": {
        "id": "view-in-github",
        "colab_type": "text"
      },
      "source": [
        "<a href=\"https://colab.research.google.com/github/aabdidian14/Pemrograman-Dasar/blob/main/Pertemuan%20satu.ipynb\" target=\"_parent\"><img src=\"https://colab.research.google.com/assets/colab-badge.svg\" alt=\"Open In Colab\"/></a>"
      ]
    },
    {
      "cell_type": "code",
      "execution_count": 7,
      "metadata": {
        "colab": {
          "base_uri": "https://localhost:8080/"
        },
        "id": "BhTg9Joi8Z-X",
        "outputId": "2b5b7634-e02c-4749-ec61-93c978e7e15e"
      },
      "outputs": [
        {
          "output_type": "stream",
          "name": "stdout",
          "text": [
            "nama\n",
            "20\n",
            "RPE\n",
            "3\n",
            "Pemerograman Dasar\n",
            "False\n"
          ]
        }
      ],
      "source": [
        "#Biodata Saya\n",
        "\n",
        "nama = \"Abdi\"\n",
        "umur = 20\n",
        "jurusan =\"RPE\"\n",
        "semester = 3\n",
        "matakuliah = 'Pemerograman Dasar'\n",
        "status_lulus = False\n",
        "\n",
        "\n",
        "print (\"nama\")\n",
        "print (umur)\n",
        "print (jurusan)\n",
        "print (semester)\n",
        "print (matakuliah)\n",
        "print (status_lulus)\n"
      ]
    }
  ]
}